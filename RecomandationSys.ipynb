{
  "nbformat": 4,
  "nbformat_minor": 0,
  "metadata": {
    "colab": {
      "provenance": []
    },
    "kernelspec": {
      "name": "python3",
      "display_name": "Python 3"
    },
    "language_info": {
      "name": "python"
    }
  },
  "cells": [
    {
      "cell_type": "code",
      "source": [
        "!pip install scikit-surprise"
      ],
      "metadata": {
        "id": "3PzD3v5hbLc0"
      },
      "execution_count": null,
      "outputs": []
    },
    {
      "cell_type": "code",
      "execution_count": null,
      "metadata": {
        "id": "BE2cyo_EZ5WB"
      },
      "outputs": [],
      "source": [
        "import numpy as np\n",
        "import pandas as pd\n",
        "import matplotlib.pyplot as plt\n",
        "import seaborn as sns\n",
        "from surprise import SVD\n",
        "from surprise import Reader, Dataset\n",
        "from surprise.model_selection import train_test_split"
      ]
    },
    {
      "cell_type": "code",
      "source": [
        "hotel_data = pd.read_csv(\"hotels.csv\", sep=',', nrows=200000, encodage=\"latin-1\")\n",
        "hotel_data.shape"
      ],
      "metadata": {
        "id": "yHAdierXGsPV"
      },
      "execution_count": null,
      "outputs": []
    },
    {
      "cell_type": "code",
      "source": [
        "hotel_data.head(5)\n",
        "hotel_data.info()"
      ],
      "metadata": {
        "id": "DmSDvNZjdX4m"
      },
      "execution_count": null,
      "outputs": []
    },
    {
      "cell_type": "code",
      "source": [
        "sns.heatmap(hotel_data.corr())"
      ],
      "metadata": {
        "id": "4NScR3vOmUam"
      },
      "execution_count": null,
      "outputs": []
    },
    {
      "cell_type": "code",
      "source": [
        "plt.figure()\n",
        "ax = sns.countplot(x=\"is_booking\", data=hotel_data, palette=[\"blue\", \"red\"])\n",
        "plt.tick_params(labelsize=15)\n",
        "plt.title(\"Distribution de la variable 'is booking' \", fontsize=20)\n",
        "plt.xlabel(\"is_booking / réservations\", fontsize=20)\n",
        "plt.ylabel(\"Quantité de réservation\", fontsize=20)\n",
        "plt.show();\n"
      ],
      "metadata": {
        "id": "sf39cmAYRsmb"
      },
      "execution_count": null,
      "outputs": []
    },
    {
      "cell_type": "code",
      "source": [
        "hotel_data.drop_duplicates(keep='first',inplace=True)\n",
        "hotel_data.info()"
      ],
      "metadata": {
        "id": "xTKTB_uTeRtE"
      },
      "execution_count": null,
      "outputs": []
    },
    {
      "cell_type": "markdown",
      "source": [
        "# Entrainer le model avec tout les lignes (200000 lignes) :"
      ],
      "metadata": {
        "id": "hi1wMfz1If4F"
      }
    },
    {
      "cell_type": "code",
      "source": [
        "# entrainer le model avec tout les lignes (200000 lignes)\n",
        "from surprise.model_selection import cross_validate\n",
        "\n",
        "reader = Reader(rating_scale=(1,5))\n",
        "data= hotel_data[['user_id','hotel_name','is_booking']]\n",
        "data.columns =['User_Id', 'Item_Id', 'Rating']\n",
        "#data.head()\n",
        "data = Dataset.load_from_df(data[['User_Id', 'Item_Id', 'Rating']], reader)\n",
        "\n",
        "svd = SVD(verbose=True, n_epochs=10)\n",
        "cross_validate(svd, data, measures=['RMSE', 'MAE'], cv=5, verbose=True)"
      ],
      "metadata": {
        "id": "e2U6y6HRGN2o"
      },
      "execution_count": null,
      "outputs": []
    },
    {
      "cell_type": "markdown",
      "source": [
        "# Tant que toute les donnees sont encoder et nous sommes besoin des vrais nom de chaque modalité, on vas se limiter sur l'étude des hotels de la France:"
      ],
      "metadata": {
        "id": "e4Bl_n58IlRp"
      }
    },
    {
      "cell_type": "code",
      "source": [
        "hotel_data['hotel_continent'].unique()"
      ],
      "metadata": {
        "id": "4KGecDIUi4rs"
      },
      "execution_count": null,
      "outputs": []
    },
    {
      "cell_type": "code",
      "source": [
        "# Definir un dictionnaire pour mapper chaque code de continent avec son vrai nom, selon le dictionnaire de donnees\n",
        "continent_mapping = {0: 'Other', 1: 'North America', 2: 'Asia', 3: 'South America', 4: 'Oceania', 5: 'Africa', 6: 'Europe'}\n",
        "\n",
        "# Remplacer les labels\n",
        "hotel_data['hotel_continent'].replace(continent_mapping, inplace=True)\n",
        "\n",
        "# Verifier la colonne 'hotel_continent'\n",
        "continent_counts = hotel_data['hotel_continent'].value_counts()\n",
        "print(continent_counts)\n"
      ],
      "metadata": {
        "id": "dirtnpccnuh6"
      },
      "execution_count": null,
      "outputs": []
    },
    {
      "cell_type": "markdown",
      "source": [],
      "metadata": {
        "id": "K3K4ecKYpJ0m"
      }
    },
    {
      "cell_type": "markdown",
      "source": [],
      "metadata": {
        "id": "BLtRWo6PpJyI"
      }
    },
    {
      "cell_type": "code",
      "source": [
        "# les code des hotels francais dans notre Dataset\n",
        "europe_hotels = hotel_data[hotel_data['hotel_continent'] == \"Europe\"][\"hotel_country\"].unique()\n",
        "europe_hotels"
      ],
      "metadata": {
        "id": "I9qGe-kSm_A6"
      },
      "execution_count": null,
      "outputs": []
    },
    {
      "cell_type": "markdown",
      "source": [
        "**Selon le dictionnaire de donnees le code correspondant a la France est: 105**"
      ],
      "metadata": {
        "id": "Nge10a6qJZpl"
      }
    },
    {
      "cell_type": "code",
      "source": [
        "# Localiser les points qui correspondent a la France, et extraire la data\n",
        "df_france_hotels = hotel_data.loc[(hotel_data['hotel_continent'] == \"Europe\") & (hotel_data['hotel_country'] == 105)].copy()\n",
        "\n",
        "# Changer le label\n",
        "df_france_hotels.loc[:, \"hotel_country\"] = \"France\""
      ],
      "metadata": {
        "id": "9TOF4fiPsBAj"
      },
      "execution_count": null,
      "outputs": []
    },
    {
      "cell_type": "code",
      "source": [
        "df_france_hotels.info()"
      ],
      "metadata": {
        "id": "WLel6glxp2bx"
      },
      "execution_count": null,
      "outputs": []
    },
    {
      "cell_type": "markdown",
      "source": [
        "**Au contraire de la data originale qui contient toute les hotels du monde qui contient 200000 lignes, cele ci contient juste 7153 lignes**"
      ],
      "metadata": {
        "id": "Mn1bqYg3KO8F"
      }
    },
    {
      "cell_type": "code",
      "source": [
        "df_france_hotels[\"hotel_name\"].unique()"
      ],
      "metadata": {
        "id": "LQtd6h-qswHG"
      },
      "execution_count": null,
      "outputs": []
    },
    {
      "cell_type": "code",
      "source": [
        "df_france_hotels.sample(10)"
      ],
      "metadata": {
        "id": "RUNxVGQHtEnq"
      },
      "execution_count": null,
      "outputs": []
    },
    {
      "cell_type": "code",
      "source": [
        "# Definir un dictionnaire pour mapper chaque code d'hotel avec son vrai nom, selon le dictionnaire de donnees\n",
        "france_hotel_mapping = {\n",
        "    82: 'Kyriad Rennes Nord',\n",
        "    37: 'Kyriad Brive la Gaillarde Centre',\n",
        "    99: 'Campanile Perpignan Nord',\n",
        "    8: \"Brit Hotel Porte d'Espagne***\",\n",
        "    78: 'Kyriad Sedan',\n",
        "    35: 'Hotel Des Carmes - Rouen',\n",
        "    25: 'Hotel Le Romarin',\n",
        "    55: 'Hotel des Cayrons',\n",
        "    9: 'Hotel du Romancier',\n",
        "    20: 'Holiday Inn Express Marseille Saint Charles',\n",
        "    90: 'Hotel du Couvent Royal',\n",
        "    43: 'Residence Routes du Monde ATC Saint-Francois-Longchamp',\n",
        "    38: 'Hotel Westminster',\n",
        "    50: 'Hotel Picard',\n",
        "    67: 'Timhotel Nation',\n",
        "    57: 'Quality Inn Las Motas St Cyprien',\n",
        "    22: 'ibis budget Caen Mondeville',\n",
        "    64: 'ibis budget Orgeval',\n",
        "    30: 'La Vieille Auberge du Lac',\n",
        "    95: 'House Maison ideale pour vos vacances au calme en lisiere de foret',\n",
        "    16: 'ULVF U Libecciu **',\n",
        "    60: \"L'EPI HOTEL\",\n",
        "    29: 'Camping La Viste',\n",
        "    36: 'HOTEL RESTAURANT LES STALAGMITES',\n",
        "    21: \"P'tit Dej-Hotel Orleans Ouest\",\n",
        "    11: 'Smartappart Lorient',\n",
        "    10: 'Hotel Restaurant Clement ADER',\n",
        "    97: 'VVF Villages > Saint-Jean-la-Vetre',\n",
        "    2: 'Le Beluga Lourdes Pyrenees',\n",
        "    59: 'Holiday Inn Nimes Petite Camargue Hotel',\n",
        "    62: 'Hotel Premiere Classe Lille Nord- Marcq en Baroeul',\n",
        "    85: 'Kyriad Besancon Palente',\n",
        "    5: \"L'Hacienda\",\n",
        "    89: 'La Cour Des Lys',\n",
        "    73: 'Mona Lisa Le Clos Des Fontaneilles',\n",
        "    81: \"Lagrange Vacances L'Ardoisiere\",\n",
        "    58: 'CGH Residences & Spas Les Alpages De Champagny',\n",
        "    83: 'Lagrange Vacances Chalets du Galibier',\n",
        "    14: 'Logis Hotel Le Moulin de Chalons',\n",
        "    51: 'Les Jardins Saint Laurent',\n",
        "    15: 'Le Panoramic Hotel',\n",
        "    40: 'New Hotel Candide',\n",
        "    76: 'La Vieille Auberge',\n",
        "    61: 'Hotel Paganini',\n",
        "    6: 'Villa Club Saint Tropez Pampelonne',\n",
        "    75: 'Hotel Bristol',\n",
        "    3: 'Hotel Auberge Saint Hubert',\n",
        "    86: 'Hotel Belle Plage ****',\n",
        "    7: \"Hotel L'Arboisie\",\n",
        "    77: 'Auberge Chez Baratier',\n",
        "    17: 'le relais des forets',\n",
        "    44: 'Pullman Paris Tour Eiffel',\n",
        "    93: 'Melia Paris La Defense Hotel',\n",
        "    23: 'Harvey Hotel',\n",
        "    4: 'Splendid Hotel',\n",
        "    28: 'Camping Le Picardy',\n",
        "    98: 'Holiday Home La Mazerolle',\n",
        "    80: 'Gites de Brion',\n",
        "    91: 'Holiday Home Maison Les Oies',\n",
        "    53: 'Four-Bedroom Holiday Home in Usson du Poitou',\n",
        "    68: 'VVF Villages > La Bussiere',\n",
        "    32: \"Holiday Home L'Ancienne Scierie\",\n",
        "    13: 'Two-Bedroom Holiday Home in Lannion',\n",
        "    12: 'Holiday home Poullaouen 51',\n",
        "    69: 'Le Gite du Poire',\n",
        "    41: 'Camping du Mouchet',\n",
        "    48: 'Two-Bedroom Holiday Home in Jaujac',\n",
        "    42: 'Four-Bedroom Holiday Home in Reauville',\n",
        "    46: 'One-Bedroom Holiday Home in Ville di Paraso',\n",
        "    31: 'avenir hotel',\n",
        "    27: 'hotel restaurant le chalet',\n",
        "    47: \"le lion d'or\",\n",
        "    63: 'Hotel de France Arcachon',\n",
        "    94: \"Holiday Home L'Olivier\",\n",
        "    24: 'Hotel Palazzu Pigna'\n",
        "}\n",
        "\n",
        "# Remplacer les code hotels avec le vrai nom de chaque hotel\n",
        "df_france_hotels['hotel_name'] = df_france_hotels['hotel_name'].map(france_hotel_mapping).fillna(df_france_hotels['hotel_name'])\n",
        "\n",
        "\n",
        "unique_hotel_names = df_france_hotels['hotel_name'].unique()\n",
        "print(unique_hotel_names)\n"
      ],
      "metadata": {
        "id": "NsW4H4m3tM6-"
      },
      "execution_count": null,
      "outputs": []
    },
    {
      "cell_type": "code",
      "source": [
        "df_france_hotels.sample(10)\n",
        "df_france_hotels['UserID'] = df_france_hotels['Unnamed: 0']\n",
        "df_france_hotels.drop(columns = [\"Unnamed: 0\"], inplace=True)\n"
      ],
      "metadata": {
        "id": "x4lHzHne138t"
      },
      "execution_count": null,
      "outputs": []
    },
    {
      "cell_type": "code",
      "source": [
        "df_france_hotels.reset_index(inplace=True)\n",
        "df_france_hotels.sample(20)"
      ],
      "metadata": {
        "id": "4MXIa2kvZLhO"
      },
      "execution_count": null,
      "outputs": []
    },
    {
      "cell_type": "code",
      "source": [
        "len(df_france_hotels[df_france_hotels['hotel_name'] == \"Hotel Le Romarin\"])"
      ],
      "metadata": {
        "id": "I91u1l522Af9"
      },
      "execution_count": null,
      "outputs": []
    },
    {
      "cell_type": "code",
      "source": [
        "df_france_hotels.info()"
      ],
      "metadata": {
        "id": "7YScEVdH2tb0"
      },
      "execution_count": null,
      "outputs": []
    },
    {
      "cell_type": "code",
      "source": [
        "from surprise.model_selection import cross_validate\n",
        "\n",
        "reader = Reader(rating_scale=(1,5))\n",
        "data= df_france_hotels[['user_id','hotel_name','is_booking']]\n",
        "data.columns =['User_Id', 'Item_Id', 'Rating']\n",
        "#data.head()\n",
        "data = Dataset.load_from_df(data[['User_Id', 'Item_Id', 'Rating']], reader)\n",
        "\n",
        "svd = SVD(verbose=True, n_epochs=10)\n",
        "cross_validate(svd, data, measures=['RMSE', 'MAE'], cv=5, verbose=True)"
      ],
      "metadata": {
        "id": "xvI3XIqq18Dq"
      },
      "execution_count": null,
      "outputs": []
    },
    {
      "cell_type": "code",
      "source": [
        "# On assumant qu'on des valeurs precis pour: user_id et hotel_name\n",
        "user_id = 7670\n",
        "hotel_name = \"Campanile Perpignan Nord\"\n",
        "\n",
        "# predir sur tout les hotels dans notre dataset pour ces valeurs de: user_id et hotel_name\n",
        "all_item_ids = df_france_hotels['hotel_name'].unique()\n",
        "predictions = []\n",
        "for item_id in all_item_ids:\n",
        "    if (item_id != hotel_name):\n",
        "      prediction = svd.predict(user_id, item_id)\n",
        "      predictions.append(prediction)\n",
        "\n",
        "\n",
        "# Classer les predictions dans un orde decroissent en utilisant: les predictions generees\n",
        "def get_estimated_rating(prediction):\n",
        "    return prediction.est\n",
        "\n",
        "sorted_predictions = sorted(predictions, key=get_estimated_rating, reverse=True)\n",
        "\n",
        "\n",
        "# Extraire les 3 meilleurs recommendations\n",
        "unique_recommendations = []\n",
        "for pred in sorted_predictions:\n",
        "    if pred.iid not in unique_recommendations:\n",
        "        unique_recommendations.append(pred.iid)\n",
        "    if len(unique_recommendations) == 3:\n",
        "        break\n",
        "\n",
        "# afficher les resultats\n",
        "for i, hotel in enumerate(unique_recommendations, 1):\n",
        "    rating = None\n",
        "    for pred in sorted_predictions:\n",
        "        if pred.iid == hotel:\n",
        "            rating = pred.est\n",
        "            break\n",
        "    print(f\"Recommendation {i}: Hotel '{hotel}' with estimated rating {round(rating, 7)}\")\n",
        "\n"
      ],
      "metadata": {
        "id": "89kldq1UN1aY"
      },
      "execution_count": null,
      "outputs": []
    },
    {
      "cell_type": "code",
      "source": [
        "from ipywidgets import interact, widgets\n",
        "import pandas as pd\n",
        "from surprise import SVD, Dataset, Reader\n",
        "\n",
        "# Charger le modèle SVD entraîné\n",
        "svd = SVD(verbose=True, n_epochs=10)\n",
        "\n",
        "# Adapter le modèle aux données\n",
        "trainset = data.build_full_trainset()\n",
        "svd.fit(trainset)\n",
        "\n",
        "# Définir une fonction pour générer des recommandations en fonction de l'utilisateur\n",
        "def generer_recommandations(user_id, nom_hotel):\n",
        "    # Prédire pour tous les hôtels dans le dataset sauf l'hôtel spécifié\n",
        "    tous_les_hotels = df_france_hotels['hotel_name'].unique()\n",
        "    predictions = []\n",
        "    for hotel in tous_les_hotels:\n",
        "        if hotel != nom_hotel:\n",
        "            prediction = svd.predict(user_id, hotel)\n",
        "            predictions.append(prediction)\n",
        "\n",
        "    # Trier les prédictions par ordre décroissant de la note estimée\n",
        "    predictions_triees = sorted(predictions, key=lambda x: x.est, reverse=True)\n",
        "\n",
        "    # Extraire les 3 meilleures recommandations uniques\n",
        "    recommandations_uniques = []\n",
        "    for pred in predictions_triees:\n",
        "        if pred.iid not in recommandations_uniques:\n",
        "            recommandations_uniques.append(pred.iid)\n",
        "        if len(recommandations_uniques) == 3:\n",
        "            break\n",
        "\n",
        "    # Formater et afficher les recommandations\n",
        "    recommendations_output.clear_output()\n",
        "    with recommendations_output:\n",
        "        for i, hotel in enumerate(recommandations_uniques, 1):\n",
        "            note = None\n",
        "            for pred in predictions_triees:\n",
        "                if pred.iid == hotel:\n",
        "                    note = pred.est\n",
        "                    break\n",
        "            print(f\"Recommandation {i} : Hôtel '{hotel}' avec une note estimée de {round(note, 7)}\")\n",
        "\n",
        "# Créer des widgets pour les entrées utilisateur\n",
        "user_id_widget = widgets.IntText(description='ID Utilisateur :', value=7670)\n",
        "hotel_name_widget = widgets.Text(description=\"Nom de l'Hôtel :\", value=\"Campanile Perpignan Nord\")\n",
        "bouton_generer = widgets.Button(description='Générer Recommandations')\n",
        "\n",
        "# Définir une fonction pour gérer l'événement du clic sur le bouton\n",
        "def on_bouton_generer_click(b):\n",
        "    generer_recommandations(user_id=user_id_widget.value, nom_hotel=hotel_name_widget.value)\n",
        "\n",
        "# Associer l'événement de clic du bouton à la fonction\n",
        "bouton_generer.on_click(on_bouton_generer_click)\n",
        "\n",
        "# Afficher les widgets et les recommandations\n",
        "display(user_id_widget, hotel_name_widget, bouton_generer)\n",
        "recommendations_output = widgets.Output()\n",
        "display(recommendations_output)\n",
        "\n"
      ],
      "metadata": {
        "id": "AFUFmTHMQmCB",
        "colab": {
          "base_uri": "https://localhost:8080/",
          "height": 420
        },
        "outputId": "bc40db23-1fa5-4200-c942-663c77e53a6e"
      },
      "execution_count": 1,
      "outputs": [
        {
          "output_type": "error",
          "ename": "ModuleNotFoundError",
          "evalue": "No module named 'surprise'",
          "traceback": [
            "\u001b[0;31m---------------------------------------------------------------------------\u001b[0m",
            "\u001b[0;31mModuleNotFoundError\u001b[0m                       Traceback (most recent call last)",
            "\u001b[0;32m<ipython-input-1-141ba0956bb2>\u001b[0m in \u001b[0;36m<cell line: 3>\u001b[0;34m()\u001b[0m\n\u001b[1;32m      1\u001b[0m \u001b[0;32mfrom\u001b[0m \u001b[0mipywidgets\u001b[0m \u001b[0;32mimport\u001b[0m \u001b[0minteract\u001b[0m\u001b[0;34m,\u001b[0m \u001b[0mwidgets\u001b[0m\u001b[0;34m\u001b[0m\u001b[0;34m\u001b[0m\u001b[0m\n\u001b[1;32m      2\u001b[0m \u001b[0;32mimport\u001b[0m \u001b[0mpandas\u001b[0m \u001b[0;32mas\u001b[0m \u001b[0mpd\u001b[0m\u001b[0;34m\u001b[0m\u001b[0;34m\u001b[0m\u001b[0m\n\u001b[0;32m----> 3\u001b[0;31m \u001b[0;32mfrom\u001b[0m \u001b[0msurprise\u001b[0m \u001b[0;32mimport\u001b[0m \u001b[0mSVD\u001b[0m\u001b[0;34m,\u001b[0m \u001b[0mDataset\u001b[0m\u001b[0;34m,\u001b[0m \u001b[0mReader\u001b[0m\u001b[0;34m\u001b[0m\u001b[0;34m\u001b[0m\u001b[0m\n\u001b[0m\u001b[1;32m      4\u001b[0m \u001b[0;34m\u001b[0m\u001b[0m\n\u001b[1;32m      5\u001b[0m \u001b[0;31m# Load the trained SVD model\u001b[0m\u001b[0;34m\u001b[0m\u001b[0;34m\u001b[0m\u001b[0m\n",
            "\u001b[0;31mModuleNotFoundError\u001b[0m: No module named 'surprise'",
            "",
            "\u001b[0;31m---------------------------------------------------------------------------\u001b[0;32m\nNOTE: If your import is failing due to a missing package, you can\nmanually install dependencies using either !pip or !apt.\n\nTo view examples of installing some common dependencies, click the\n\"Open Examples\" button below.\n\u001b[0;31m---------------------------------------------------------------------------\u001b[0m\n"
          ],
          "errorDetails": {
            "actions": [
              {
                "action": "open_url",
                "actionText": "Open Examples",
                "url": "/notebooks/snippets/importing_libraries.ipynb"
              }
            ]
          }
        }
      ]
    },
    {
      "cell_type": "code",
      "source": [
        "# Importation des modules nécessaires\n",
        "from ipywidgets import interact, widgets, Layout\n",
        "import pandas as pd\n",
        "from surprise import SVD, Dataset, Reader\n",
        "\n",
        "# Charger le modèle SVD entraîné\n",
        "svd = SVD(verbose=True, n_epochs=10)\n",
        "\n",
        "# Adapter le modèle aux données\n",
        "trainset = data.build_full_trainset()\n",
        "svd.fit(trainset)\n",
        "\n",
        "# Définir une fonction pour générer des recommandations en fonction de l'entrée de l'utilisateur\n",
        "def generer_recommandations(id_utilisateur, nom_hotel):\n",
        "    # Prédire pour tous les hôtels dans le jeu de données sauf l'hôtel spécifié\n",
        "    tous_les_ids_hotels = df_france_hotels['nom_hotel'].unique()\n",
        "    predictions = []\n",
        "    for id_hotel in tous_les_ids_hotels:\n",
        "        if id_hotel != nom_hotel:\n",
        "            prediction = svd.predict(id_utilisateur, id_hotel)\n",
        "            predictions.append(prediction)\n",
        "\n",
        "    # Trier les prédictions par ordre décroissant\n",
        "    predictions_triees = sorted(predictions, key=lambda x: x.est, reverse=True)\n",
        "\n",
        "    # Sélectionner les 10 meilleures recommandations uniques\n",
        "    recommandations_uniques = []\n",
        "    for pred in predictions_triees:\n",
        "        if pred.iid not in recommandations_uniques:\n",
        "            recommandations_uniques.append(pred.iid)\n",
        "        if len(recommandations_uniques) == 10:\n",
        "            break\n",
        "\n",
        "    # Formater les recommandations en HTML pour une meilleure présentation\n",
        "    recommandations_html = f\"<ol>\"\n",
        "    for i, hotel in enumerate(recommandations_uniques, 1):\n",
        "        estimation = None\n",
        "        for pred in predictions_triees:\n",
        "            if pred.iid == hotel:\n",
        "                estimation = round(pred.est, 2)\n",
        "                break\n",
        "        recommandations_html += f\"<li>Hôtel '{hotel}' avec une estimation de note de {estimation}</li>\"\n",
        "    recommandations_html += \"</ol>\"\n",
        "\n",
        "    # Mettre à jour la sortie des recommandations avec les recommandations formatées en HTML\n",
        "    recommendations_output.value = recommandations_html\n",
        "\n",
        "# Créer des widgets pour l'entrée utilisateur\n",
        "widget_id_utilisateur = widgets.IntText(description='ID Utilisateur:', value=7670, layout=Layout(width='200px'))\n",
        "widget_nom_hotel = widgets.Text(description='Nom de l\\'hôtel:', value=\"Campanile Perpignan Nord\", layout=Layout(width='400px'))\n",
        "bouton_generer = widgets.Button(description='Générer des recommandations', layout=Layout(width='200px'))\n",
        "\n",
        "# Définir une fonction pour gérer l'événement de clic sur le bouton\n",
        "def on_bouton_generer_click(b):\n",
        "    generer_recommandations(id_utilisateur=widget_id_utilisateur.value, nom_hotel=widget_nom_hotel.value)\n",
        "\n",
        "# Associer l'événement de clic sur le bouton avec la fonction\n",
        "bouton_generer.on_click(on_bouton_generer_click)\n",
        "\n",
        "# Créer un conteneur pour les widgets d'entrée\n",
        "widgets_entree = widgets.VBox([widget_id_utilisateur, widget_nom_hotel, bouton_generer])\n",
        "\n",
        "# Créer un widget de sortie pour afficher les recommandations\n",
        "recommendations_output = widgets.HTML()\n",
        "\n",
        "# Afficher les widgets\n",
        "display(widgets_entree)\n",
        "display(recommendations_output)\n"
      ],
      "metadata": {
        "id": "o5c2gHuzQ7ev"
      },
      "execution_count": null,
      "outputs": []
    },
    {
      "cell_type": "markdown",
      "source": [
        "**xxxxxxxxxxxxxxxxxxxxxxxxxxxxxxxxxxxxxxxxxxxxxxxxxxxxxxxxxxxxxxxxxxxxxxxxxxxxxxxxxxxxxxxxxxxxxxxxxxxxxxxxxxxxxxxxxxxxxxxxxxxxxxxxxxxxxxxxxxxxxxxxxxxxxxxxxxxxxxxxxx**"
      ],
      "metadata": {
        "id": "n1QJBGcbODM_"
      }
    },
    {
      "cell_type": "code",
      "source": [],
      "metadata": {
        "id": "M79J6RWD3iSL"
      },
      "execution_count": null,
      "outputs": []
    },
    {
      "cell_type": "code",
      "source": [
        "from surprise import Dataset, Reader\n",
        "from surprise.model_selection import cross_validate\n",
        "from surprise import SVD\n",
        "\n",
        "# Definir le reader\n",
        "reader = Reader(rating_scale=(1, 5))\n",
        "\n",
        "# la data de l'utilisateur\n",
        "user_id = 7670\n",
        "hotel_name = \"Campanile Perpignan Nord\"\n",
        "is_booking = 1  # 1 for booking, 0 for browsing\n",
        "\n",
        "# Creer une DataFrame\n",
        "input_data = {'User_Id': [user_id], 'Item_Id': [hotel_name], 'Rating': [is_booking]}\n",
        "input_df = pd.DataFrame(input_data)\n",
        "data = Dataset.load_from_df(input_df[['User_Id', 'Item_Id', 'Rating']], reader)\n",
        "\n",
        "#  SVD model\n",
        "svd = SVD(verbose=True, n_epochs=10)\n",
        "\n",
        "# Fiting\n",
        "trainset = data.build_full_trainset()\n",
        "svd.fit(trainset)\n",
        "all_item_ids = df_france_hotels['hotel_name'].unique()\n",
        "\n",
        "\n",
        "other_item_ids = [item_id for item_id in all_item_ids if item_id != hotel_name]\n",
        "predictions = [svd.predict(user_id, item_id) for item_id in other_item_ids]\n",
        "sorted_predictions = sorted(predictions, key=lambda x: x.est, reverse=True)\n",
        "\n",
        "# les preditions des hotels\n",
        "unique_recommendations = []\n",
        "for pred in sorted_predictions:\n",
        "    if pred.iid not in unique_recommendations:\n",
        "        unique_recommendations.append(pred.iid)\n",
        "    if len(unique_recommendations) == 3:\n",
        "        break\n",
        "\n",
        "# Print les meilleurs recommandations\n",
        "for i, hotel in enumerate(unique_recommendations, 1):\n",
        "    print(f\"Recommendation {i}: Hotel '{hotel}'\")\n",
        "\n"
      ],
      "metadata": {
        "id": "jzcRnRue2nLg"
      },
      "execution_count": null,
      "outputs": []
    }
  ]
}